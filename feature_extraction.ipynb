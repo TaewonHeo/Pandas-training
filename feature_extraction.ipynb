{
 "cells": [
  {
   "cell_type": "code",
   "execution_count": 341,
   "metadata": {},
   "outputs": [],
   "source": [
    "import pandas as pd\n",
    "import matplotlib.pyplot as plt\n",
    "import seaborn as sns\n",
    "import numpy as np\n",
    "\n",
    "data = pd.read_csv(\"./data_4.csv\", header = None)\n",
    "num_row = int(data.shape[0])\n",
    "num_col = int(data.shape[1])"
   ]
  },
  {
   "cell_type": "code",
   "execution_count": 342,
   "metadata": {},
   "outputs": [
    {
     "data": {
      "text/plain": [
       "'C:\\\\rnn\\\\data'"
      ]
     },
     "execution_count": 342,
     "metadata": {},
     "output_type": "execute_result"
    }
   ],
   "source": [
    "import pandas as pd\n",
    "import numpy as np\n",
    "import os\n",
    "os.chdir('C:\\\\rnn\\\\data')\n",
    "os.getcwd()"
   ]
  },
  {
   "cell_type": "code",
   "execution_count": 343,
   "metadata": {},
   "outputs": [
    {
     "data": {
      "text/plain": [
       "array([[181, 237, 288, ..., 110, 110, 99],\n",
       "       [223, 285, 333, ..., 112, 112, 106],\n",
       "       [183, 209, 288, ..., 97, 115, 114],\n",
       "       ...,\n",
       "       [189, 245, 302, ..., 112, 119, 127],\n",
       "       [236, 271, 314, ..., 99, 93, 103],\n",
       "       [228, 265, 303, ..., 113, 108, 98]], dtype=object)"
      ]
     },
     "execution_count": 343,
     "metadata": {},
     "output_type": "execute_result"
    }
   ],
   "source": [
    "data_part"
   ]
  },
  {
   "cell_type": "code",
   "execution_count": 344,
   "metadata": {},
   "outputs": [],
   "source": [
    "# count (decide)\n",
    "\n",
    "index = [i for i in range(2, num_col)]\n",
    "quatile_data = data[index].quantile([0.01, 0.99], axis=0)\n",
    "np_quatile_data = np.array(data[index].quantile([0.01, 0.99], axis=0))\n",
    "new_data = []\n",
    "for i in range(num_row):\n",
    "    row = data.loc[i]\n",
    "    row = np.array(row[2::])\n",
    "    new_data.append(list(row))\n",
    "\n",
    "\n",
    "decide = [0]*num_row\n",
    "for j in range(num_row):\n",
    "    for i in range(num_col-2):\n",
    "        if (new_data[j][i] < np_quatile_data[0][i] or (new_data[j][i] > np_quatile_data[1][i])):\n",
    "#             print(j, i, new_data[j][i], np_quatile_data[0][i], np_quatile_data[1][i])\n",
    "            decide[j] += 1\n",
    "        else:\n",
    "            decide[j] += 0 \n",
    "\n",
    "# extreme count (decide2)\n",
    "\n",
    "index = [i for i in range(2, num_col)]\n",
    "quatile_data_2 = data[index].quantile([0.002, 0.998], axis=0)\n",
    "np_quatile_data_2 = np.array(data[index].quantile([0.002, 0.998], axis=0))\n",
    "new_data_2 = []\n",
    "for i in range(num_row):\n",
    "    row = data.loc[i]\n",
    "    row = np.array(row[2::])\n",
    "    new_data_2.append(list(row))\n",
    "\n",
    "decide_2 = [0]*num_row\n",
    "for j in range(num_row):\n",
    "    for i in range(num_col-2):\n",
    "        if (new_data[j][i] < np_quatile_data_2[0][i] or (new_data[j][i] > np_quatile_data_2[1][i])):\n",
    "#             print(j, i, new_data[j][i], np_quatile_data[0][i], np_quatile_data[1][i])\n",
    "            decide_2[j] += 1\n",
    "        else:\n",
    "            decide_2[j] += 0 \n",
    "\n"
   ]
  },
  {
   "cell_type": "code",
   "execution_count": 345,
   "metadata": {},
   "outputs": [
    {
     "data": {
      "text/plain": [
       "(940, 150)"
      ]
     },
     "execution_count": 345,
     "metadata": {},
     "output_type": "execute_result"
    }
   ],
   "source": [
    "# pick a specific interval (n_start, n_end)\n",
    "n_start = 50\n",
    "n_end = 200\n",
    "data_part = np.array(data)[:,n_start+1:n_end+1]\n",
    "data_part.shape"
   ]
  },
  {
   "cell_type": "code",
   "execution_count": 346,
   "metadata": {},
   "outputs": [
    {
     "data": {
      "text/plain": [
       "(1, 150)"
      ]
     },
     "execution_count": 346,
     "metadata": {},
     "output_type": "execute_result"
    }
   ],
   "source": [
    "# mean array\n",
    "meanarr = np.mean(np.array(data_part),axis=0).reshape(-1,1)\n",
    "meanarr_tr=meanarr.reshape(1,-1)\n",
    "\n",
    "meanarr_tr.shape\n"
   ]
  },
  {
   "cell_type": "code",
   "execution_count": 347,
   "metadata": {},
   "outputs": [],
   "source": [
    "# mean array\n",
    "meanarr = np.mean(np.array(data_part)[:,2:],axis=1).reshape(-1,1)"
   ]
  },
  {
   "cell_type": "code",
   "execution_count": 348,
   "metadata": {},
   "outputs": [],
   "source": [
    "# std array\n",
    "stdlist = []\n",
    "for i in range(data_part.shape[0]):\n",
    "    stdlist.append(np.std(np.array(data_part)[i,2:]))\n",
    "stdarr = np.array(stdlist).reshape(-1,1)"
   ]
  },
  {
   "cell_type": "code",
   "execution_count": 349,
   "metadata": {},
   "outputs": [],
   "source": [
    "# count array\n",
    "countarr=np.array(decide).reshape(-1,1)\n",
    "\n",
    "# extreme count array\n",
    "countarr_2=np.array(decide_2).reshape(-1,1)"
   ]
  },
  {
   "cell_type": "code",
   "execution_count": 350,
   "metadata": {},
   "outputs": [],
   "source": [
    "# correlation array\n",
    "corrlist=[]\n",
    "for i in range(data_part.shape[0]):\n",
    "    corr=np.corrcoef(data_part[i].reshape(1,-1)[0].tolist(),meanarr_tr[0].tolist())[0][1]\n",
    "    corrlist.append(corr)\n",
    "corrarr = np.array(corrarr).reshape(-1,1)"
   ]
  },
  {
   "cell_type": "code",
   "execution_count": 351,
   "metadata": {},
   "outputs": [
    {
     "name": "stderr",
     "output_type": "stream",
     "text": [
      "c:\\anaconda\\envs\\tensorflow1\\lib\\site-packages\\sklearn\\utils\\validation.py:590: DataConversionWarning: Data with input dtype object was converted to float64 by StandardScaler.\n",
      "  warnings.warn(msg, DataConversionWarning)\n",
      "c:\\anaconda\\envs\\tensorflow1\\lib\\site-packages\\sklearn\\utils\\validation.py:590: DataConversionWarning: Data with input dtype object was converted to float64 by StandardScaler.\n",
      "  warnings.warn(msg, DataConversionWarning)\n"
     ]
    }
   ],
   "source": [
    "featurearr=np.hstack((meanarr,stdarr,countarr,countarr_2,corrarr))\n",
    "labelarr=np.array(data[0]).reshape(-1,1)\n",
    "\n",
    "# normalization\n",
    "import sklearn\n",
    "from sklearn.preprocessing import StandardScaler\n",
    "scaler = StandardScaler()\n",
    "scaler.fit(featurearr)\n",
    "featurearr = scaler.transform(featurearr)\n",
    "\n"
   ]
  },
  {
   "cell_type": "code",
   "execution_count": 352,
   "metadata": {},
   "outputs": [
    {
     "data": {
      "text/plain": [
       "array([[-0.40531947, -0.32702222, -0.21473722, -0.01769912,  0.09956702],\n",
       "       [-0.31274469, -0.26907395,  0.83948116,  0.55435256,  0.07537565],\n",
       "       [-0.17777585, -0.3517033 , -0.31419178, -0.16071203,  0.10237906],\n",
       "       ...,\n",
       "       [-0.02406134, -0.01290855, -0.31419178, -0.16071203,  0.06996601],\n",
       "       [-0.30236247,  0.03801115, -0.25451904, -0.16071203,  0.13130571],\n",
       "       [-0.17748746,  0.16184195, -0.25451904, -0.16071203,  0.12301773]])"
      ]
     },
     "execution_count": 352,
     "metadata": {},
     "output_type": "execute_result"
    }
   ],
   "source": [
    "featurearr"
   ]
  },
  {
   "cell_type": "code",
   "execution_count": null,
   "metadata": {},
   "outputs": [],
   "source": []
  },
  {
   "cell_type": "code",
   "execution_count": null,
   "metadata": {},
   "outputs": [],
   "source": []
  },
  {
   "cell_type": "code",
   "execution_count": null,
   "metadata": {},
   "outputs": [],
   "source": []
  },
  {
   "cell_type": "code",
   "execution_count": null,
   "metadata": {},
   "outputs": [],
   "source": []
  },
  {
   "cell_type": "code",
   "execution_count": null,
   "metadata": {},
   "outputs": [],
   "source": []
  }
 ],
 "metadata": {
  "kernelspec": {
   "display_name": "Python 3",
   "language": "python",
   "name": "python3"
  },
  "language_info": {
   "codemirror_mode": {
    "name": "ipython",
    "version": 3
   },
   "file_extension": ".py",
   "mimetype": "text/x-python",
   "name": "python",
   "nbconvert_exporter": "python",
   "pygments_lexer": "ipython3",
   "version": "3.5.4"
  }
 },
 "nbformat": 4,
 "nbformat_minor": 2
}
